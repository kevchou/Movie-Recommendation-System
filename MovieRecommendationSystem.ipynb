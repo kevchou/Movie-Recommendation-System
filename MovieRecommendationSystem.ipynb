{
 "cells": [
  {
   "cell_type": "markdown",
   "metadata": {},
   "source": [
    "\n",
    "# Building a movie recommendation system\n",
    "##### Kevin Chou\n",
    "April 8, 2017"
   ]
  },
  {
   "cell_type": "markdown",
   "metadata": {},
   "source": [
    "## Introduction\n",
    "\n",
    "More and more companies today are using big data to gain a competitive advantage over their competitors in the marketplace. The explosion of customer data in the last twenty years have prompted many companies to focus their company efforts on analytics in order to differentiate themselves. Banks, telecoms, and retailors are all leveraging their data to predict popular trends, prepare for future demand, and better understanding their customers’ wants and needs.\n",
    "\n",
    "Personalized recommendations are an important part of any e-commerce site such as Amazon, Spotify, or Netflix, due to their ability to offer their customers a large number of choices in products, songs, and movies. Although having a large variety of options may seem great for the consumer, too many choices can often lead to ‘choice overload’, where the consumer becomes so overwhelmed with the number of options that they have difficulty making a decision. Personalized recommendations can solve this problem by preemptively suggesting to consumers the products that they think they will like. Successful recommendations lead to higher customer engagement, which means more sales and profit for the company."
   ]
  },
  {
   "cell_type": "markdown",
   "metadata": {},
   "source": [
    "### Hypothesis\n",
    "In this project, I have built a recommendation system that can offer personalized movie recommendations for users based on movies that they have previously seen and rated, similar to what Netflix offers its customers.\n",
    "\n",
    "A common rating system for movies is a 5-star rating scale; 1 star means “I hated it” and 5 stars means “I loved it”. The recommendation system is written in Python and will predict the star rating a user would likely to give to a movie, as well as give recommendations on movies that the user has not seen before.\n",
    "\n",
    "In order to make successful movie recommendations for a particular user, the recommendation system will look for other users who have a similar rating pattern. The movie ratings from like-minded users are used to calculate the predicted ratings for movies that the base user has not seen. This technique is called user-based collaborative filtering.\n",
    "\n",
    "The idea is that if user A has rated movies the same movies as user B similarly, then user A and B could be said to have the same tastes in movies. If user A gave 5 stars to a movie that user B hasn't rated yet, then user B might also rate that movie highly with 4 or 5 stars."
   ]
  },
  {
   "cell_type": "markdown",
   "metadata": {},
   "source": [
    "Example:\n",
    "\n",
    "|        | Fences | Moonlight | Lion | Arrival | La La Land |\n",
    "|--------|--------|-----------|------|---------|------------|\n",
    "| Kevin  | 4      | 5         | 1    | 5       | 3          |\n",
    "| Stacey | 5      | 4         | 2    |         | 3          |\n",
    "| Joey   | 1      | 2         | 5    | 2       | 5          |\n",
    "\n",
    "Suppose we have the movie ratings from for 5 different movies from 3 different users, as shown in the table above. Stacey has not seen Arrival but a prediction can be made on what Stacey will give it, based on the ratings that Kevin and Joey have given it.\n",
    "\n",
    "Stacey rates her movies closer to Kevin than Joey, so we can predict that Stacey would likely give Arrival 4 or 5 stars since Kevin gave Arrival 5 stars."
   ]
  },
  {
   "cell_type": "markdown",
   "metadata": {},
   "source": [
    "## Data Preparation"
   ]
  },
  {
   "cell_type": "markdown",
   "metadata": {},
   "source": [
    "The data needed to build this recommendation system was retrieved from the GroupLens Research website (https://grouplens.org/datasets/movielens/). GroupLens Research has collected movie ratings from the MovieLens website and has made them available for download as .CSV files.\n",
    "\n",
    "The downloaded data has already been cleaned and prepared by GroupLens Research, no additional work was needed to prepare the data for analysis. There is around 20 million ratings across 27,000 movies by 138,000 users. All users have at least 20 movie ratings.\n",
    "\n",
    "All of the data preparation and analysis is done within Python using the `pandas` and `numpy` packages and plots created using `matplotlib`."
   ]
  },
  {
   "cell_type": "code",
   "execution_count": 1,
   "metadata": {
    "collapsed": false,
    "scrolled": true
   },
   "outputs": [
    {
     "data": {
      "text/html": [
       "<div>\n",
       "<table border=\"1\" class=\"dataframe\">\n",
       "  <thead>\n",
       "    <tr style=\"text-align: right;\">\n",
       "      <th></th>\n",
       "      <th>userId</th>\n",
       "      <th>movieId</th>\n",
       "      <th>rating</th>\n",
       "      <th>timestamp</th>\n",
       "    </tr>\n",
       "  </thead>\n",
       "  <tbody>\n",
       "    <tr>\n",
       "      <th>0</th>\n",
       "      <td>1</td>\n",
       "      <td>2</td>\n",
       "      <td>3.5</td>\n",
       "      <td>1112486027</td>\n",
       "    </tr>\n",
       "    <tr>\n",
       "      <th>1</th>\n",
       "      <td>1</td>\n",
       "      <td>29</td>\n",
       "      <td>3.5</td>\n",
       "      <td>1112484676</td>\n",
       "    </tr>\n",
       "    <tr>\n",
       "      <th>2</th>\n",
       "      <td>1</td>\n",
       "      <td>32</td>\n",
       "      <td>3.5</td>\n",
       "      <td>1112484819</td>\n",
       "    </tr>\n",
       "    <tr>\n",
       "      <th>3</th>\n",
       "      <td>1</td>\n",
       "      <td>47</td>\n",
       "      <td>3.5</td>\n",
       "      <td>1112484727</td>\n",
       "    </tr>\n",
       "    <tr>\n",
       "      <th>4</th>\n",
       "      <td>1</td>\n",
       "      <td>50</td>\n",
       "      <td>3.5</td>\n",
       "      <td>1112484580</td>\n",
       "    </tr>\n",
       "  </tbody>\n",
       "</table>\n",
       "</div>"
      ],
      "text/plain": [
       "   userId  movieId  rating   timestamp\n",
       "0       1        2     3.5  1112486027\n",
       "1       1       29     3.5  1112484676\n",
       "2       1       32     3.5  1112484819\n",
       "3       1       47     3.5  1112484727\n",
       "4       1       50     3.5  1112484580"
      ]
     },
     "execution_count": 1,
     "metadata": {},
     "output_type": "execute_result"
    }
   ],
   "source": [
    "import numpy as np\n",
    "import pandas as pd\n",
    "import matplotlib.pyplot as plt\n",
    "%matplotlib inline\n",
    "\n",
    "np.seterr(divide='ignore', invalid='ignore') # Ignore some warning messages\n",
    "\n",
    "all_ratings = pd.read_csv('ratings.csv')\n",
    "all_ratings.head()"
   ]
  },
  {
   "cell_type": "code",
   "execution_count": 2,
   "metadata": {
    "collapsed": false
   },
   "outputs": [
    {
     "name": "stdout",
     "output_type": "stream",
     "text": [
      "There are 138493 unique user ids\n",
      "There are 26744 unique movies\n",
      "There are 20000263 ratings\n"
     ]
    }
   ],
   "source": [
    "print(\"There are %s unique user ids\" % len(all_ratings['userId'].unique()))\n",
    "print(\"There are %s unique movies\" % len(all_ratings['movieId'].unique()))\n",
    "print(\"There are %s ratings\" % all_ratings.shape[0])"
   ]
  },
  {
   "cell_type": "markdown",
   "metadata": {},
   "source": [
    "The `movies.csv` file was also read into a `pandas` DataFrame. This table will be used to extract the actual movie titles from a given `movieId`."
   ]
  },
  {
   "cell_type": "code",
   "execution_count": 3,
   "metadata": {
    "collapsed": false
   },
   "outputs": [
    {
     "data": {
      "text/html": [
       "<div>\n",
       "<table border=\"1\" class=\"dataframe\">\n",
       "  <thead>\n",
       "    <tr style=\"text-align: right;\">\n",
       "      <th></th>\n",
       "      <th>movieId</th>\n",
       "      <th>title</th>\n",
       "      <th>genres</th>\n",
       "    </tr>\n",
       "  </thead>\n",
       "  <tbody>\n",
       "    <tr>\n",
       "      <th>0</th>\n",
       "      <td>1</td>\n",
       "      <td>Toy Story (1995)</td>\n",
       "      <td>Adventure|Animation|Children|Comedy|Fantasy</td>\n",
       "    </tr>\n",
       "    <tr>\n",
       "      <th>1</th>\n",
       "      <td>2</td>\n",
       "      <td>Jumanji (1995)</td>\n",
       "      <td>Adventure|Children|Fantasy</td>\n",
       "    </tr>\n",
       "    <tr>\n",
       "      <th>2</th>\n",
       "      <td>3</td>\n",
       "      <td>Grumpier Old Men (1995)</td>\n",
       "      <td>Comedy|Romance</td>\n",
       "    </tr>\n",
       "    <tr>\n",
       "      <th>3</th>\n",
       "      <td>4</td>\n",
       "      <td>Waiting to Exhale (1995)</td>\n",
       "      <td>Comedy|Drama|Romance</td>\n",
       "    </tr>\n",
       "    <tr>\n",
       "      <th>4</th>\n",
       "      <td>5</td>\n",
       "      <td>Father of the Bride Part II (1995)</td>\n",
       "      <td>Comedy</td>\n",
       "    </tr>\n",
       "  </tbody>\n",
       "</table>\n",
       "</div>"
      ],
      "text/plain": [
       "   movieId                               title  \\\n",
       "0        1                    Toy Story (1995)   \n",
       "1        2                      Jumanji (1995)   \n",
       "2        3             Grumpier Old Men (1995)   \n",
       "3        4            Waiting to Exhale (1995)   \n",
       "4        5  Father of the Bride Part II (1995)   \n",
       "\n",
       "                                        genres  \n",
       "0  Adventure|Animation|Children|Comedy|Fantasy  \n",
       "1                   Adventure|Children|Fantasy  \n",
       "2                               Comedy|Romance  \n",
       "3                         Comedy|Drama|Romance  \n",
       "4                                       Comedy  "
      ]
     },
     "execution_count": 3,
     "metadata": {},
     "output_type": "execute_result"
    }
   ],
   "source": [
    "all_movies = pd.read_csv('movies.csv')\n",
    "all_movies.head()"
   ]
  },
  {
   "cell_type": "code",
   "execution_count": 4,
   "metadata": {
    "collapsed": true
   },
   "outputs": [],
   "source": [
    "def movie_title_lookup(movieId):\n",
    "    \"\"\"Returns movie title from input movieId\"\"\"\n",
    "    global all_movies\n",
    "    return all_movies[all_movies['movieId'] == movieId].title.iloc[0]"
   ]
  },
  {
   "cell_type": "markdown",
   "metadata": {},
   "source": [
    "#### Challenges\n",
    "One of the largest challenge faced in this project was dealing with the size of the data. There are almost 140,000 unique users, so if the entirety of the data was used then a similarity score would need to be calculated for approximately 20 billion different user pairs. \n",
    "\n",
    "When I first attempted to run my analysis using the full dataset, my machine ran out memory and recieved `MemoryError` errors from Python. In order to combat this problem, I created a subset of the data by randomly selecting 5,000 users out of the 138,493 total users in the dataset."
   ]
  },
  {
   "cell_type": "code",
   "execution_count": 5,
   "metadata": {
    "collapsed": false
   },
   "outputs": [
    {
     "name": "stdout",
     "output_type": "stream",
     "text": [
      "Subsetted data:\n",
      "5000 unique user ids\n",
      "14819 unique movies\n",
      "762769 ratings\n"
     ]
    }
   ],
   "source": [
    "# Create subset of ratings\n",
    "np.random.seed(1)\n",
    "user_subset = np.random.choice(all_ratings['userId'].unique(), \n",
    "                               size=5000, \n",
    "                               replace=False)\n",
    "ratings = all_ratings[all_ratings['userId'].isin(user_subset)]\n",
    "\n",
    "print(\"Subsetted data:\")\n",
    "print(\"%s unique user ids\" % len(ratings['userId'].unique()))\n",
    "print(\"%s unique movies\" % len(ratings['movieId'].unique()))\n",
    "print(\"%s ratings\" % ratings.shape[0])"
   ]
  },
  {
   "cell_type": "markdown",
   "metadata": {},
   "source": [
    "Another challenge was the run times of my code. A lot of time was spend optimizing the code, such as vectorizing the calculations and using `numpy` functions whenever possible. This sped the process up considerably."
   ]
  },
  {
   "cell_type": "markdown",
   "metadata": {},
   "source": [
    "#### Input Data"
   ]
  },
  {
   "cell_type": "markdown",
   "metadata": {},
   "source": [
    "To prepare the data for analysis the imported ratings DataFrame was converted into a $N \\times M$ matrix containing the movie ratings, where $N$ is the number of users and $M$ is the number of movies. Each row of this matrix represents a user and each column represents a movie and contains the movie rating from each user. If a user does not have a rating, the entry in the matrix is 0, making this a very sparse matrix."
   ]
  },
  {
   "cell_type": "code",
   "execution_count": 6,
   "metadata": {
    "collapsed": false,
    "scrolled": true
   },
   "outputs": [],
   "source": [
    "# Some setup to prepare to create the ratings matrix\n",
    "n_users = len(ratings['userId'].unique())\n",
    "n_movies =len(ratings['movieId'].unique())\n",
    "\n",
    "# Create some column/row to userid/movieid mappings\n",
    "users_idx = {y:x for x, y in zip(range(n_users), \n",
    "                                 ratings['userId'].unique().tolist())}\n",
    "movie_idx = {y:x for x, y in zip(range(n_movies), \n",
    "                                 ratings['movieId'].unique().tolist())}\n",
    "movie_idx_reverse = {v:k for k,v in movie_idx.items()}\n",
    "\n",
    "# Constants for getting data out of the ratings dataframe\n",
    "USER_ID = 1\n",
    "MOVIE_ID = 2\n",
    "MOVIE_RATING = 3"
   ]
  },
  {
   "cell_type": "code",
   "execution_count": 7,
   "metadata": {
    "collapsed": false,
    "scrolled": true
   },
   "outputs": [],
   "source": [
    "# Create the NxM ratings matrix\n",
    "ratings_m = np.zeros((n_users, n_movies))\n",
    "\n",
    "for row in ratings.itertuples():\n",
    "    ratings_m[users_idx[row[USER_ID]]-1, \n",
    "              movie_idx[row[MOVIE_ID]]-1] = row[MOVIE_RATING]"
   ]
  },
  {
   "cell_type": "markdown",
   "metadata": {},
   "source": [
    "Example of the first five columns and rows of the ratings matrix:"
   ]
  },
  {
   "cell_type": "code",
   "execution_count": 8,
   "metadata": {
    "collapsed": false
   },
   "outputs": [
    {
     "data": {
      "text/html": [
       "<div>\n",
       "<table border=\"1\" class=\"dataframe\">\n",
       "  <thead>\n",
       "    <tr style=\"text-align: right;\">\n",
       "      <th></th>\n",
       "      <th>Toy Story (1995)</th>\n",
       "      <th>GoldenEye (1995)</th>\n",
       "      <th>Ace Ventura: When Nature Calls (1995)</th>\n",
       "      <th>Twelve Monkeys (a.k.a. 12 Monkeys) (1995)</th>\n",
       "      <th>Clueless (1995)</th>\n",
       "      <th>Bio-Dome (1996)</th>\n",
       "    </tr>\n",
       "  </thead>\n",
       "  <tbody>\n",
       "    <tr>\n",
       "      <th>0</th>\n",
       "      <td>0.0</td>\n",
       "      <td>0.0</td>\n",
       "      <td>0.0</td>\n",
       "      <td>0.0</td>\n",
       "      <td>0.0</td>\n",
       "      <td>4.0</td>\n",
       "    </tr>\n",
       "    <tr>\n",
       "      <th>1</th>\n",
       "      <td>3.0</td>\n",
       "      <td>3.0</td>\n",
       "      <td>0.0</td>\n",
       "      <td>3.0</td>\n",
       "      <td>0.0</td>\n",
       "      <td>3.0</td>\n",
       "    </tr>\n",
       "    <tr>\n",
       "      <th>2</th>\n",
       "      <td>3.0</td>\n",
       "      <td>4.0</td>\n",
       "      <td>5.0</td>\n",
       "      <td>2.0</td>\n",
       "      <td>0.0</td>\n",
       "      <td>3.0</td>\n",
       "    </tr>\n",
       "    <tr>\n",
       "      <th>3</th>\n",
       "      <td>0.0</td>\n",
       "      <td>2.0</td>\n",
       "      <td>3.5</td>\n",
       "      <td>0.0</td>\n",
       "      <td>0.0</td>\n",
       "      <td>0.0</td>\n",
       "    </tr>\n",
       "    <tr>\n",
       "      <th>4</th>\n",
       "      <td>0.0</td>\n",
       "      <td>0.0</td>\n",
       "      <td>0.0</td>\n",
       "      <td>0.0</td>\n",
       "      <td>0.0</td>\n",
       "      <td>0.0</td>\n",
       "    </tr>\n",
       "    <tr>\n",
       "      <th>5</th>\n",
       "      <td>0.0</td>\n",
       "      <td>0.0</td>\n",
       "      <td>0.0</td>\n",
       "      <td>0.0</td>\n",
       "      <td>0.0</td>\n",
       "      <td>0.0</td>\n",
       "    </tr>\n",
       "  </tbody>\n",
       "</table>\n",
       "</div>"
      ],
      "text/plain": [
       "   Toy Story (1995)  GoldenEye (1995)  Ace Ventura: When Nature Calls (1995)  \\\n",
       "0               0.0               0.0                                    0.0   \n",
       "1               3.0               3.0                                    0.0   \n",
       "2               3.0               4.0                                    5.0   \n",
       "3               0.0               2.0                                    3.5   \n",
       "4               0.0               0.0                                    0.0   \n",
       "5               0.0               0.0                                    0.0   \n",
       "\n",
       "   Twelve Monkeys (a.k.a. 12 Monkeys) (1995)  Clueless (1995)  Bio-Dome (1996)  \n",
       "0                                        0.0              0.0              4.0  \n",
       "1                                        3.0              0.0              3.0  \n",
       "2                                        2.0              0.0              3.0  \n",
       "3                                        0.0              0.0              0.0  \n",
       "4                                        0.0              0.0              0.0  \n",
       "5                                        0.0              0.0              0.0  "
      ]
     },
     "execution_count": 8,
     "metadata": {},
     "output_type": "execute_result"
    }
   ],
   "source": [
    "ratings_df_ex = pd.DataFrame(ratings_m).ix[:5, :5]\n",
    "ratings_df_ex.columns = [movie_title_lookup(x) \n",
    "                         for x in [movie_idx_reverse[c] \n",
    "                         for c in ratings_df_ex.columns]]\n",
    "\n",
    "ratings_df_ex"
   ]
  },
  {
   "cell_type": "markdown",
   "metadata": {},
   "source": [
    "The ratings matrix will be used as the input data for predictive model."
   ]
  },
  {
   "cell_type": "markdown",
   "metadata": {},
   "source": [
    "### Predictive Model"
   ]
  },
  {
   "cell_type": "markdown",
   "metadata": {},
   "source": [
    "#### Setting up training and test sets\n",
    "The movie ratings matrix is first split into a training and test set before any analysis. The training set will be used to train the model and the test set will be used to validate the model. To construct the test set, five movies were removed from each user from the ratings matrix. The remaining ratings in the dataset afterwards will be used as the training set."
   ]
  },
  {
   "cell_type": "code",
   "execution_count": 9,
   "metadata": {
    "collapsed": true,
    "scrolled": true
   },
   "outputs": [],
   "source": [
    "def create_train_and_test(ratings, n):\n",
    "    \"\"\"Splits input ratings dataset into train and test sets.\n",
    "    n = number of movies to remove for test set for each user \n",
    "    \"\"\"\n",
    "    train = ratings.copy()\n",
    "    test = np.zeros(ratings.shape)\n",
    "    \n",
    "    for user in range(ratings.shape[0]):\n",
    "        # Choose n random movies to remove from each user \n",
    "        test_ratings = np.random.choice(ratings[user, :].nonzero()[0], \n",
    "                                        size=n, \n",
    "                                        replace=False)\n",
    "        \n",
    "        # Prepare test set, and set ratings to 0 in training set\n",
    "        train[user, test_ratings] = 0 \n",
    "        test[user, test_ratings] = ratings[user, test_ratings]\n",
    "    return train, test"
   ]
  },
  {
   "cell_type": "code",
   "execution_count": 10,
   "metadata": {
    "collapsed": true
   },
   "outputs": [],
   "source": [
    "train, test = create_train_and_test(ratings_m, 5)"
   ]
  },
  {
   "cell_type": "markdown",
   "metadata": {},
   "source": [
    "#### The Model\n",
    "The recommendation system uses the collaborative filtering technique to predict a user's movies ratings by looking at the ratings of other users with similar taste in movies. \n",
    "\n",
    "In order to measure how similar two users' taste in movies are, the Cosine Similarity metric will be calculated using both user's movie ratings.  Cosine Similarity is defined as:\n",
    "\n",
    "$$\n",
    "\\text{Cosine Similarity}(u_i, u_j) = \\frac{u_i \\cdot u_j}{||u_i||*||u_j||}\n",
    "$$\n",
    "\n",
    "Where $u_i$, and $u_j$ are the movie ratings vectors for user $i$ and user $j$, respectively."
   ]
  },
  {
   "cell_type": "code",
   "execution_count": 11,
   "metadata": {
    "collapsed": false,
    "scrolled": true
   },
   "outputs": [],
   "source": [
    "def calc_cosine_similarity(x):\n",
    "    \"\"\"input: movies ratings matrix\n",
    "     outputs: nxn cosine similarity matrix\n",
    "    \"\"\"\n",
    "    dot_prods = x.dot(x.T)\n",
    "\n",
    "    norms = np.sqrt(np.diagonal(dot_prods))\n",
    "    norms1 = norms.reshape((len(norms), 1))\n",
    "    norms2 = norms.reshape((1, len(norms)))\n",
    "\n",
    "    return dot_prods / norms1 / norms2"
   ]
  },
  {
   "cell_type": "markdown",
   "metadata": {},
   "source": [
    "The cosine similarities are calculated for every user pair in the training set. Below is an example of the calculated cosine similiarity matrix, showing the similiarities between the first 6 users."
   ]
  },
  {
   "cell_type": "code",
   "execution_count": 12,
   "metadata": {
    "collapsed": false,
    "scrolled": true
   },
   "outputs": [
    {
     "data": {
      "text/html": [
       "<div>\n",
       "<table border=\"1\" class=\"dataframe\">\n",
       "  <thead>\n",
       "    <tr style=\"text-align: right;\">\n",
       "      <th></th>\n",
       "      <th>0</th>\n",
       "      <th>1</th>\n",
       "      <th>2</th>\n",
       "      <th>3</th>\n",
       "      <th>4</th>\n",
       "      <th>5</th>\n",
       "    </tr>\n",
       "  </thead>\n",
       "  <tbody>\n",
       "    <tr>\n",
       "      <th>0</th>\n",
       "      <td>1.000000</td>\n",
       "      <td>0.198049</td>\n",
       "      <td>0.275326</td>\n",
       "      <td>0.059327</td>\n",
       "      <td>0.118528</td>\n",
       "      <td>0.103155</td>\n",
       "    </tr>\n",
       "    <tr>\n",
       "      <th>1</th>\n",
       "      <td>0.198049</td>\n",
       "      <td>1.000000</td>\n",
       "      <td>0.325563</td>\n",
       "      <td>0.047535</td>\n",
       "      <td>0.063375</td>\n",
       "      <td>0.000000</td>\n",
       "    </tr>\n",
       "    <tr>\n",
       "      <th>2</th>\n",
       "      <td>0.275326</td>\n",
       "      <td>0.325563</td>\n",
       "      <td>1.000000</td>\n",
       "      <td>0.166773</td>\n",
       "      <td>0.091690</td>\n",
       "      <td>0.110688</td>\n",
       "    </tr>\n",
       "    <tr>\n",
       "      <th>3</th>\n",
       "      <td>0.059327</td>\n",
       "      <td>0.047535</td>\n",
       "      <td>0.166773</td>\n",
       "      <td>1.000000</td>\n",
       "      <td>0.031020</td>\n",
       "      <td>0.059195</td>\n",
       "    </tr>\n",
       "    <tr>\n",
       "      <th>4</th>\n",
       "      <td>0.118528</td>\n",
       "      <td>0.063375</td>\n",
       "      <td>0.091690</td>\n",
       "      <td>0.031020</td>\n",
       "      <td>1.000000</td>\n",
       "      <td>0.000000</td>\n",
       "    </tr>\n",
       "    <tr>\n",
       "      <th>5</th>\n",
       "      <td>0.103155</td>\n",
       "      <td>0.000000</td>\n",
       "      <td>0.110688</td>\n",
       "      <td>0.059195</td>\n",
       "      <td>0.000000</td>\n",
       "      <td>1.000000</td>\n",
       "    </tr>\n",
       "  </tbody>\n",
       "</table>\n",
       "</div>"
      ],
      "text/plain": [
       "          0         1         2         3         4         5\n",
       "0  1.000000  0.198049  0.275326  0.059327  0.118528  0.103155\n",
       "1  0.198049  1.000000  0.325563  0.047535  0.063375  0.000000\n",
       "2  0.275326  0.325563  1.000000  0.166773  0.091690  0.110688\n",
       "3  0.059327  0.047535  0.166773  1.000000  0.031020  0.059195\n",
       "4  0.118528  0.063375  0.091690  0.031020  1.000000  0.000000\n",
       "5  0.103155  0.000000  0.110688  0.059195  0.000000  1.000000"
      ]
     },
     "execution_count": 12,
     "metadata": {},
     "output_type": "execute_result"
    }
   ],
   "source": [
    "# Calculate cosine similiarity matrix using the training set\n",
    "cosine_sim = calc_cosine_similarity(train)\n",
    "pd.DataFrame(cosine_sim).ix[:5,:5]"
   ]
  },
  {
   "cell_type": "markdown",
   "metadata": {},
   "source": [
    "#### $k$ nearest neighbours\n",
    "The model will implement a $k$-nearest neighours algorithm using the cosine similarity as the distance metric. The $k$ most similar users' movie ratings will be used calculate the predicted movie ratings. \n",
    "\n",
    "Below is a function written to find the userId's for the $k$ nearest users with the highest Cosine Similarity."
   ]
  },
  {
   "cell_type": "code",
   "execution_count": 13,
   "metadata": {
    "collapsed": true
   },
   "outputs": [],
   "source": [
    "def get_k_nearest_users(user, k, sim):\n",
    "    user_similarities = sim[user]    # Get similarities of OTHER users\n",
    "    descending_idx = user_similarities.argsort()[::-1] # Ranked index \n",
    "    \n",
    "    # If K > number of other users, use all users\n",
    "    if k > sim.shape[0] - 1:\n",
    "        k_nearest_users = descending_idx[1:]\n",
    "    else:\n",
    "        k_nearest_users = descending_idx[1:k+1]  \n",
    "\n",
    "    return k_nearest_users"
   ]
  },
  {
   "cell_type": "markdown",
   "metadata": {},
   "source": [
    "#### Predicted Ratings\n",
    "The recommended ratings will be calculated by taking the the weighted average of the movie ratings given by the $k$ nearest neighbours.\n",
    "\n",
    "$$\n",
    "\\text{predicted ratings} = {\\frac{\\sum_{i=1}^{k}\\text{user ratings}_i * w_i}{\\sum_{i=1}^{k}w_i}}\n",
    "$$\n",
    "\n",
    "Two different averages are tested: the arithmetic mean and an weighted average weighted by the users' Cosine Similarity."
   ]
  },
  {
   "cell_type": "code",
   "execution_count": 47,
   "metadata": {
    "collapsed": false,
    "scrolled": true
   },
   "outputs": [],
   "source": [
    "def recommend_ratings_for_user(user, k, sim, dataset, weighted_avg=True): \n",
    "    \n",
    "    # if K > number of users, use number of users.\n",
    "    if k > sim.shape[0] - 1: k = sim.shape[0] - 1\n",
    "\n",
    "    k_nearest_users = get_k_nearest_users(user, k, sim) # K most similiar users\n",
    "    k_nearest_sim = sim[user][k_nearest_users] # similarities of K users    \n",
    "    k_nearest_ratings = dataset[k_nearest_users] # ratings of K users       \n",
    "\n",
    "    if weighted_avg:\n",
    "        weights = (k_nearest_ratings != 0) * np.reshape(k_nearest_sim, (k, 1))\n",
    "    else:\n",
    "        weights = (k_nearest_ratings != 0)\n",
    "        \n",
    "    recommended_ratings = (k_nearest_ratings * weights).sum(axis=0) / weights.sum(axis=0)\n",
    "    return np.nan_to_num(recommended_ratings)\n",
    "\n",
    "def get_all_recommended_Ratings(k, sim, dataset, weighted_avg=True):\n",
    "    all_recommended = np.zeros(dataset.shape)\n",
    "    for user in range(dataset.shape[0]):\n",
    "        all_recommended[user] = recommend_ratings_for_user(user, k, sim, dataset, weighted_avg)\n",
    "    return all_recommended"
   ]
  },
  {
   "cell_type": "markdown",
   "metadata": {},
   "source": [
    "The resulting recommended ratings matrix is also a $N \\times M$ matrix, where each row represents a user's recommended ratings.\n",
    "\n",
    "As an example, below are the recommended ratings calculated with $k=5$."
   ]
  },
  {
   "cell_type": "code",
   "execution_count": 15,
   "metadata": {
    "collapsed": false
   },
   "outputs": [],
   "source": [
    "recommended_ratings_ex = get_all_recommended_Ratings(k=5, \n",
    "                                                     sim=cosine_sim, \n",
    "                                                     dataset=train)"
   ]
  },
  {
   "cell_type": "code",
   "execution_count": 16,
   "metadata": {
    "collapsed": false
   },
   "outputs": [
    {
     "data": {
      "text/html": [
       "<div>\n",
       "<table border=\"1\" class=\"dataframe\">\n",
       "  <thead>\n",
       "    <tr style=\"text-align: right;\">\n",
       "      <th></th>\n",
       "      <th>Toy Story (1995)</th>\n",
       "      <th>GoldenEye (1995)</th>\n",
       "      <th>Ace Ventura: When Nature Calls (1995)</th>\n",
       "      <th>Twelve Monkeys (a.k.a. 12 Monkeys) (1995)</th>\n",
       "      <th>Clueless (1995)</th>\n",
       "      <th>Bio-Dome (1996)</th>\n",
       "    </tr>\n",
       "  </thead>\n",
       "  <tbody>\n",
       "    <tr>\n",
       "      <th>0</th>\n",
       "      <td>3.0</td>\n",
       "      <td>0.00</td>\n",
       "      <td>3.51</td>\n",
       "      <td>0.00</td>\n",
       "      <td>0.0</td>\n",
       "      <td>4.26</td>\n",
       "    </tr>\n",
       "    <tr>\n",
       "      <th>1</th>\n",
       "      <td>3.4</td>\n",
       "      <td>2.20</td>\n",
       "      <td>4.25</td>\n",
       "      <td>3.00</td>\n",
       "      <td>0.0</td>\n",
       "      <td>4.80</td>\n",
       "    </tr>\n",
       "    <tr>\n",
       "      <th>2</th>\n",
       "      <td>3.0</td>\n",
       "      <td>2.61</td>\n",
       "      <td>3.80</td>\n",
       "      <td>3.33</td>\n",
       "      <td>1.0</td>\n",
       "      <td>4.60</td>\n",
       "    </tr>\n",
       "    <tr>\n",
       "      <th>3</th>\n",
       "      <td>3.0</td>\n",
       "      <td>1.97</td>\n",
       "      <td>4.40</td>\n",
       "      <td>0.00</td>\n",
       "      <td>0.0</td>\n",
       "      <td>3.71</td>\n",
       "    </tr>\n",
       "    <tr>\n",
       "      <th>4</th>\n",
       "      <td>0.0</td>\n",
       "      <td>5.00</td>\n",
       "      <td>0.00</td>\n",
       "      <td>0.00</td>\n",
       "      <td>0.0</td>\n",
       "      <td>3.50</td>\n",
       "    </tr>\n",
       "    <tr>\n",
       "      <th>5</th>\n",
       "      <td>4.5</td>\n",
       "      <td>2.50</td>\n",
       "      <td>4.50</td>\n",
       "      <td>0.00</td>\n",
       "      <td>0.0</td>\n",
       "      <td>5.00</td>\n",
       "    </tr>\n",
       "  </tbody>\n",
       "</table>\n",
       "</div>"
      ],
      "text/plain": [
       "   Toy Story (1995)  GoldenEye (1995)  Ace Ventura: When Nature Calls (1995)  \\\n",
       "0               3.0              0.00                                   3.51   \n",
       "1               3.4              2.20                                   4.25   \n",
       "2               3.0              2.61                                   3.80   \n",
       "3               3.0              1.97                                   4.40   \n",
       "4               0.0              5.00                                   0.00   \n",
       "5               4.5              2.50                                   4.50   \n",
       "\n",
       "   Twelve Monkeys (a.k.a. 12 Monkeys) (1995)  Clueless (1995)  Bio-Dome (1996)  \n",
       "0                                       0.00              0.0             4.26  \n",
       "1                                       3.00              0.0             4.80  \n",
       "2                                       3.33              1.0             4.60  \n",
       "3                                       0.00              0.0             3.71  \n",
       "4                                       0.00              0.0             3.50  \n",
       "5                                       0.00              0.0             5.00  "
      ]
     },
     "execution_count": 16,
     "metadata": {},
     "output_type": "execute_result"
    }
   ],
   "source": [
    "rcmmd_ratings_df_ex = pd.DataFrame(recommended_ratings_ex).ix[:5, :5]\n",
    "rcmmd_ratings_df_ex.columns = [movie_title_lookup(x) \n",
    "                               for x in [movie_idx_reverse[c] \n",
    "                               for c in rcmmd_ratings_df_ex.columns]]\n",
    "\n",
    "rcmmd_ratings_df_ex.round(2)"
   ]
  },
  {
   "cell_type": "markdown",
   "metadata": {},
   "source": [
    "#### Model Performance"
   ]
  },
  {
   "cell_type": "markdown",
   "metadata": {},
   "source": [
    "The model still needs to be trained to find the optimal $k$ that would produce the best predictions. To validate the model, the Mean Absolute Error was calculated for all user ratings and predicted ratings. The Mean Absolute Error was chosen over the Mean Squared Error to use to measure the performance of the model because the MAE is easier to interpret for this particular project. For this recommendation system, the MAE can be interpreted as the average difference in stars between the users' actual ratings and their predicted ratings.\n",
    "\n",
    "Mean Absolute Error is defined as:\n",
    "\n",
    "$$\n",
    "MAE = \\frac{1}{N} \\sum_{i=1}^{N}{\\mid \\text{actual rating}_i - \\text{predicted_rating}_i \\mid}\n",
    "$$\n",
    "\n",
    "Where $N$ is the total number of ratings available."
   ]
  },
  {
   "cell_type": "code",
   "execution_count": 17,
   "metadata": {
    "collapsed": true
   },
   "outputs": [],
   "source": [
    "def calc_mae(actual, predicted):\n",
    "    # Flatten the ratings matrix into 1D array\n",
    "    actual_flat = actual.flatten()\n",
    "    predicted_flat = predicted.flatten()\n",
    "    \n",
    "    # Only compare movies where ratings available for both \n",
    "    actual_nonzero = actual_flat.nonzero()\n",
    "    predicted_nonzero = predicted_flat[actual_nonzero].nonzero()\n",
    "\n",
    "    # Final actual and predicted values\n",
    "    a = actual_flat[actual_nonzero][predicted_nonzero]\n",
    "    p = predicted_flat[actual_nonzero][predicted_nonzero]\n",
    "    \n",
    "    return np.sum(abs(a - p))  / len(a)"
   ]
  },
  {
   "cell_type": "markdown",
   "metadata": {},
   "source": [
    "#### Training the model"
   ]
  },
  {
   "cell_type": "markdown",
   "metadata": {},
   "source": [
    "A function was created that to calculate the MSE using different values of $k$."
   ]
  },
  {
   "cell_type": "code",
   "execution_count": 18,
   "metadata": {
    "collapsed": true
   },
   "outputs": [],
   "source": [
    "def test_model(k_list, sim, dataset, weighted_avg=True):\n",
    "    all_errors = []\n",
    "    all_rcmmndd_ratings = {}\n",
    "    \n",
    "    for k in k_list:\n",
    "        recommended_ratings = get_all_recommended_Ratings(k, sim, dataset, \n",
    "                                                          weighted_avg)\n",
    "        e = {'K':k, 'MAE': calc_mae(dataset, recommended_ratings)}\n",
    "        \n",
    "        all_errors.append(e)\n",
    "        all_rcmmndd_ratings['k'] = recommended_ratings\n",
    "    \n",
    "    return pd.DataFrame(all_errors), all_rcmmndd_ratings"
   ]
  },
  {
   "cell_type": "markdown",
   "metadata": {},
   "source": [
    "The model will be tested using various values for $k$, from $k=1$ to using all possible users ($k=5000$), using the non-weighted mean and a weighted mean using cosine similarity."
   ]
  },
  {
   "cell_type": "code",
   "execution_count": 19,
   "metadata": {
    "collapsed": true
   },
   "outputs": [],
   "source": [
    "k_list = [1, 10, 50, 100, 250, 500, 1000, 2000, 3000, 4000, 5000]"
   ]
  },
  {
   "cell_type": "code",
   "execution_count": 20,
   "metadata": {
    "collapsed": true
   },
   "outputs": [],
   "source": [
    "# The code below took 12 hours to run!!\n",
    "mse_test_nw = pd.read_csv(\"k_mse_test_nw.csv\")\n",
    "mse_train_nw = pd.read_csv(\"k_mse_train_nw.csv\")\n",
    "mse_test_w = pd.read_csv(\"k_mse_test_w.csv\")\n",
    "mse_train_w = pd.read_csv(\"k_mse_train_w.csv\")"
   ]
  },
  {
   "cell_type": "code",
   "execution_count": 21,
   "metadata": {
    "collapsed": false
   },
   "outputs": [
    {
     "data": {
      "image/png": "[encoded data removed]",
      "text/plain": [
       "<matplotlib.figure.Figure at 0x9626390>"
      ]
     },
     "metadata": {},
     "output_type": "display_data"
    }
   ],
   "source": [
    "fig = plt.figure(figsize=(10,5))\n",
    "\n",
    "# Plot non-weighted models\n",
    "plt.subplot(121)\n",
    "plt.plot(k_list, mse_test_nw['MAE'], label='Test')\n",
    "plt.plot(k_list, mse_train_nw['MAE'], label='Train')\n",
    "plt.legend(loc='best')\n",
    "plt.xlabel('k', fontsize=20)\n",
    "plt.ylabel('MAE', fontsize=20)\n",
    "plt.title('Non-weighted MAE', fontsize=25)\n",
    "\n",
    "# Plot weighted models\n",
    "plt.subplot(122)\n",
    "plt.plot(k_list, mse_test_w['MAE'], label='Test')\n",
    "plt.plot(k_list, mse_train_w['MAE'], label='Train')\n",
    "plt.legend(loc='best')\n",
    "plt.xlabel('k', fontsize=20)\n",
    "plt.ylabel('MAE', fontsize=20)\n",
    "plt.title('Weighted MAE', fontsize=25)\n",
    "\n",
    "plt.show()"
   ]
  },
  {
   "cell_type": "markdown",
   "metadata": {},
   "source": [
    "MAE Values"
   ]
  },
  {
   "cell_type": "code",
   "execution_count": 22,
   "metadata": {
    "collapsed": false
   },
   "outputs": [
    {
     "data": {
      "text/html": [
       "<div>\n",
       "<table border=\"1\" class=\"dataframe\">\n",
       "  <thead>\n",
       "    <tr style=\"text-align: right;\">\n",
       "      <th></th>\n",
       "      <th>MAE_test_nw</th>\n",
       "      <th>MAE_test_w</th>\n",
       "      <th>MAE_train_nw</th>\n",
       "      <th>MAE_train_w</th>\n",
       "    </tr>\n",
       "    <tr>\n",
       "      <th>K</th>\n",
       "      <th></th>\n",
       "      <th></th>\n",
       "      <th></th>\n",
       "      <th></th>\n",
       "    </tr>\n",
       "  </thead>\n",
       "  <tbody>\n",
       "    <tr>\n",
       "      <th>1</th>\n",
       "      <td>0.9125</td>\n",
       "      <td>0.9125</td>\n",
       "      <td>0.8431</td>\n",
       "      <td>0.8431</td>\n",
       "    </tr>\n",
       "    <tr>\n",
       "      <th>10</th>\n",
       "      <td>0.9032</td>\n",
       "      <td>0.9039</td>\n",
       "      <td>0.7613</td>\n",
       "      <td>0.7613</td>\n",
       "    </tr>\n",
       "    <tr>\n",
       "      <th>50</th>\n",
       "      <td>0.8600</td>\n",
       "      <td>0.8609</td>\n",
       "      <td>0.7322</td>\n",
       "      <td>0.7317</td>\n",
       "    </tr>\n",
       "    <tr>\n",
       "      <th>100</th>\n",
       "      <td>0.8502</td>\n",
       "      <td>0.8509</td>\n",
       "      <td>0.7274</td>\n",
       "      <td>0.7266</td>\n",
       "    </tr>\n",
       "    <tr>\n",
       "      <th>250</th>\n",
       "      <td>0.8435</td>\n",
       "      <td>0.8444</td>\n",
       "      <td>0.7265</td>\n",
       "      <td>0.7252</td>\n",
       "    </tr>\n",
       "    <tr>\n",
       "      <th>500</th>\n",
       "      <td>0.8311</td>\n",
       "      <td>0.8323</td>\n",
       "      <td>0.7293</td>\n",
       "      <td>0.7273</td>\n",
       "    </tr>\n",
       "    <tr>\n",
       "      <th>1000</th>\n",
       "      <td>0.8183</td>\n",
       "      <td>0.8198</td>\n",
       "      <td>0.7334</td>\n",
       "      <td>0.7304</td>\n",
       "    </tr>\n",
       "    <tr>\n",
       "      <th>2000</th>\n",
       "      <td>0.8066</td>\n",
       "      <td>0.8078</td>\n",
       "      <td>0.7383</td>\n",
       "      <td>0.7334</td>\n",
       "    </tr>\n",
       "    <tr>\n",
       "      <th>3000</th>\n",
       "      <td>0.8059</td>\n",
       "      <td>0.8055</td>\n",
       "      <td>0.7411</td>\n",
       "      <td>0.7348</td>\n",
       "    </tr>\n",
       "    <tr>\n",
       "      <th>4000</th>\n",
       "      <td>0.8038</td>\n",
       "      <td>0.8035</td>\n",
       "      <td>0.7431</td>\n",
       "      <td>0.7354</td>\n",
       "    </tr>\n",
       "    <tr>\n",
       "      <th>5000</th>\n",
       "      <td>0.8049</td>\n",
       "      <td>0.8040</td>\n",
       "      <td>0.7446</td>\n",
       "      <td>0.7357</td>\n",
       "    </tr>\n",
       "  </tbody>\n",
       "</table>\n",
       "</div>"
      ],
      "text/plain": [
       "      MAE_test_nw  MAE_test_w  MAE_train_nw  MAE_train_w\n",
       "K                                                       \n",
       "1          0.9125      0.9125        0.8431       0.8431\n",
       "10         0.9032      0.9039        0.7613       0.7613\n",
       "50         0.8600      0.8609        0.7322       0.7317\n",
       "100        0.8502      0.8509        0.7274       0.7266\n",
       "250        0.8435      0.8444        0.7265       0.7252\n",
       "500        0.8311      0.8323        0.7293       0.7273\n",
       "1000       0.8183      0.8198        0.7334       0.7304\n",
       "2000       0.8066      0.8078        0.7383       0.7334\n",
       "3000       0.8059      0.8055        0.7411       0.7348\n",
       "4000       0.8038      0.8035        0.7431       0.7354\n",
       "5000       0.8049      0.8040        0.7446       0.7357"
      ]
     },
     "execution_count": 22,
     "metadata": {},
     "output_type": "execute_result"
    }
   ],
   "source": [
    "mae_nw = mse_test_nw.merge(mse_train_nw, on='K', suffixes=('_test', '_train'))\n",
    "mae_w = mse_test_w.merge(mse_train_w, on='K', suffixes=('_test', '_train'))\n",
    "mae_all = mae_nw.merge(mae_w, on='K', suffixes=('_nw', '_w'))\n",
    "mae_all.index = mae_all['K']\n",
    "mae_all.index.name = 'K'\n",
    "\n",
    "mae_all[['MAE_test_nw', 'MAE_test_w', 'MAE_train_nw', 'MAE_train_w']].round(4)"
   ]
  },
  {
   "cell_type": "markdown",
   "metadata": {},
   "source": [
    "As expected, the Mean Absolute Error when tested against the training set is lower than the test set. However, we are training the recommendation to give the minimum MAE using the test set. Looking at the training set, $k=250$ gives the smallest MAE while the optimal $k$ for the test model appears to be at $k=4000$. \n",
    "\n",
    "The non-weighted model seems to perform slightly better than the weighed models for both training and test sets but only up until $k=3000$. The weighted-model starts to perform better when $k>3000$, but the differences are so small they are negligible."
   ]
  },
  {
   "cell_type": "markdown",
   "metadata": {},
   "source": [
    "The best performing model against the test set uses the Cosine Similarity weighted average calculated from the $k=4000$ most similar users. This model has the lowest Mean Absolute Error of 0.8035."
   ]
  },
  {
   "cell_type": "markdown",
   "metadata": {},
   "source": [
    "## Conclusion\n",
    "\n",
    "In this project I've successfully created a working recommendation system that can accurately predict a user's movie ratings using collaborative filtering. By using only a subset of the data, I was able to create a recommendation system that was able to predict movie ratings that was off by less than 1 star rating on average. \n",
    "\n",
    "The best model takes the cosine similarity weighted average movie ratings from the $k=4000$ closest users, producing a model that has a Mean Absolute Error of 0.80.\n",
    "\n",
    "#### Future Considerations\n",
    "Only a subset (~4%) of the full dataset was used due to hardware and software restrictions. Using the full dataset could possibly improve the model's accuracy, but that would require a more powerful machine, more efficient code, or a different storage system. For example, the MovieLens data could've been imported into a relational database such as MySQL.\n",
    "\n",
    "Further more, additional data could be incorporated into the model. The movies dataset contained a list of genres associated with each movie. This is additonal data that could be used to determine if user has a preference for certain genres, or could be used to group similar movies together. Data from other sources, such as user ratings from IMDB or RottenTomatos.com could be web scraped and incorporated into the model to improve the model."
   ]
  },
  {
   "cell_type": "markdown",
   "metadata": {},
   "source": [
    "#### Example\n",
    "Below is an example of the recommend ratings and predicted movies outputted by the recommendation system for a user."
   ]
  },
  {
   "cell_type": "code",
   "execution_count": 23,
   "metadata": {
    "collapsed": false
   },
   "outputs": [],
   "source": [
    "# Best model was the weighted avg with k=4000\n",
    "recommended_ratings = ratings_test_w['4000']"
   ]
  },
  {
   "cell_type": "code",
   "execution_count": 24,
   "metadata": {
    "collapsed": false
   },
   "outputs": [],
   "source": [
    "def compare_ratings(user, dataset, recommended):\n",
    "    user_ratings = dataset[user]\n",
    "    recmd_ratings = recommended[user]    \n",
    "    nonzeros = user_ratings.nonzero()\n",
    "    ratings = pd.DataFrame({\n",
    "            \"actual\":user_ratings[nonzeros],\n",
    "            \"predicted\":recmd_ratings[nonzeros]})\n",
    "    \n",
    "    # Get the actual movieId's from index \n",
    "    ratings.index = ratings.index.map(lambda x: movie_idx_reverse[x])\n",
    "    ratings = ratings.reset_index()\n",
    "    ratings.columns = ['movieId', 'actual', 'predicted']\n",
    "    \n",
    "    # Calculate difference between the actual and predicted ratings\n",
    "    ratings['abs_diff'] = abs(ratings['actual'] - ratings['predicted'])\n",
    "    \n",
    "    # Merge with movies dataframe to get movie title\n",
    "    ratings_w_title = ratings.merge(all_movies, on='movieId')\n",
    "    ratings_w_title = ratings_w_title[['title', 'actual', 'predicted', 'abs_diff']]\n",
    "    \n",
    "    return ratings_w_title[(ratings_w_title['actual'] != 0) & \n",
    "                           (ratings_w_title['predicted'] != 0)]"
   ]
  },
  {
   "cell_type": "markdown",
   "metadata": {},
   "source": [
    "The top 5 closest predicted ratings for user 1988:"
   ]
  },
  {
   "cell_type": "code",
   "execution_count": 25,
   "metadata": {
    "collapsed": false
   },
   "outputs": [
    {
     "data": {
      "text/html": [
       "<div>\n",
       "<table border=\"1\" class=\"dataframe\">\n",
       "  <thead>\n",
       "    <tr style=\"text-align: right;\">\n",
       "      <th></th>\n",
       "      <th>title</th>\n",
       "      <th>actual</th>\n",
       "      <th>predicted</th>\n",
       "      <th>abs_diff</th>\n",
       "    </tr>\n",
       "  </thead>\n",
       "  <tbody>\n",
       "    <tr>\n",
       "      <th>16</th>\n",
       "      <td>Net, The (1995)</td>\n",
       "      <td>3.5</td>\n",
       "      <td>3.576157</td>\n",
       "      <td>0.076157</td>\n",
       "    </tr>\n",
       "    <tr>\n",
       "      <th>12</th>\n",
       "      <td>Die Hard: With a Vengeance (1995)</td>\n",
       "      <td>4.0</td>\n",
       "      <td>4.098329</td>\n",
       "      <td>0.098329</td>\n",
       "    </tr>\n",
       "    <tr>\n",
       "      <th>0</th>\n",
       "      <td>Toy Story (1995)</td>\n",
       "      <td>3.0</td>\n",
       "      <td>3.157133</td>\n",
       "      <td>0.157133</td>\n",
       "    </tr>\n",
       "    <tr>\n",
       "      <th>9</th>\n",
       "      <td>Batman Forever (1995)</td>\n",
       "      <td>4.0</td>\n",
       "      <td>3.809091</td>\n",
       "      <td>0.190909</td>\n",
       "    </tr>\n",
       "    <tr>\n",
       "      <th>2</th>\n",
       "      <td>Ace Ventura: When Nature Calls (1995)</td>\n",
       "      <td>2.0</td>\n",
       "      <td>2.201682</td>\n",
       "      <td>0.201682</td>\n",
       "    </tr>\n",
       "  </tbody>\n",
       "</table>\n",
       "</div>"
      ],
      "text/plain": [
       "                                    title  actual  predicted  abs_diff\n",
       "16                        Net, The (1995)     3.5   3.576157  0.076157\n",
       "12      Die Hard: With a Vengeance (1995)     4.0   4.098329  0.098329\n",
       "0                        Toy Story (1995)     3.0   3.157133  0.157133\n",
       "9                   Batman Forever (1995)     4.0   3.809091  0.190909\n",
       "2   Ace Ventura: When Nature Calls (1995)     2.0   2.201682  0.201682"
      ]
     },
     "execution_count": 25,
     "metadata": {},
     "output_type": "execute_result"
    }
   ],
   "source": [
    "user = compare_ratings(1988, ratings_m, recommended_ratings)\n",
    "user.sort_values('abs_diff').head()"
   ]
  },
  {
   "cell_type": "markdown",
   "metadata": {},
   "source": [
    "The worst 5 predicted ratings for the same user:"
   ]
  },
  {
   "cell_type": "code",
   "execution_count": 26,
   "metadata": {
    "collapsed": false
   },
   "outputs": [
    {
     "data": {
      "text/html": [
       "<div>\n",
       "<table border=\"1\" class=\"dataframe\">\n",
       "  <thead>\n",
       "    <tr style=\"text-align: right;\">\n",
       "      <th></th>\n",
       "      <th>title</th>\n",
       "      <th>actual</th>\n",
       "      <th>predicted</th>\n",
       "      <th>abs_diff</th>\n",
       "    </tr>\n",
       "  </thead>\n",
       "  <tbody>\n",
       "    <tr>\n",
       "      <th>3</th>\n",
       "      <td>Twelve Monkeys (a.k.a. 12 Monkeys) (1995)</td>\n",
       "      <td>4.0</td>\n",
       "      <td>2.484240</td>\n",
       "      <td>1.515760</td>\n",
       "    </tr>\n",
       "    <tr>\n",
       "      <th>5</th>\n",
       "      <td>Bio-Dome (1996)</td>\n",
       "      <td>4.5</td>\n",
       "      <td>3.000000</td>\n",
       "      <td>1.500000</td>\n",
       "    </tr>\n",
       "    <tr>\n",
       "      <th>18</th>\n",
       "      <td>Dumb &amp; Dumber (Dumb and Dumber) (1994)</td>\n",
       "      <td>3.5</td>\n",
       "      <td>2.334202</td>\n",
       "      <td>1.165798</td>\n",
       "    </tr>\n",
       "    <tr>\n",
       "      <th>8</th>\n",
       "      <td>Apollo 13 (1995)</td>\n",
       "      <td>4.5</td>\n",
       "      <td>3.382469</td>\n",
       "      <td>1.117531</td>\n",
       "    </tr>\n",
       "    <tr>\n",
       "      <th>13</th>\n",
       "      <td>Hackers (1995)</td>\n",
       "      <td>4.5</td>\n",
       "      <td>3.732516</td>\n",
       "      <td>0.767484</td>\n",
       "    </tr>\n",
       "  </tbody>\n",
       "</table>\n",
       "</div>"
      ],
      "text/plain": [
       "                                        title  actual  predicted  abs_diff\n",
       "3   Twelve Monkeys (a.k.a. 12 Monkeys) (1995)     4.0   2.484240  1.515760\n",
       "5                             Bio-Dome (1996)     4.5   3.000000  1.500000\n",
       "18     Dumb & Dumber (Dumb and Dumber) (1994)     3.5   2.334202  1.165798\n",
       "8                            Apollo 13 (1995)     4.5   3.382469  1.117531\n",
       "13                             Hackers (1995)     4.5   3.732516  0.767484"
      ]
     },
     "execution_count": 26,
     "metadata": {},
     "output_type": "execute_result"
    }
   ],
   "source": [
    "user.sort_values('abs_diff', ascending=False).head()"
   ]
  },
  {
   "cell_type": "code",
   "execution_count": 27,
   "metadata": {
    "collapsed": false
   },
   "outputs": [
    {
     "data": {
      "text/plain": [
       "0.5725463935387917"
      ]
     },
     "execution_count": 27,
     "metadata": {},
     "output_type": "execute_result"
    }
   ],
   "source": [
    "user['abs_diff'].mean()"
   ]
  },
  {
   "cell_type": "markdown",
   "metadata": {},
   "source": [
    "The average absolute difference for this user is 0.57. This means that the predicted ratings only differed from the user's actual ratings by an average of half a star."
   ]
  },
  {
   "cell_type": "markdown",
   "metadata": {},
   "source": [
    "Next, let's look at what movies the recommendation system would think this user would enjoy."
   ]
  },
  {
   "cell_type": "code",
   "execution_count": 28,
   "metadata": {
    "collapsed": true
   },
   "outputs": [],
   "source": [
    "def recommend_movies_for_user(user, dataset, recommended, stars=4):\n",
    "    \"\"\"Return a DataFrame of movies that the input user has not rated. \n",
    "    Can specifiy the number of stars threshold)\"\"\"\n",
    "    user_ratings = ratings_m[user]\n",
    "    recmd_ratings = recommended_ratings[user]\n",
    "\n",
    "    movies_user_havent_seen = (user_ratings == 0).nonzero()\n",
    "    predicted_ratings = pd.DataFrame({'x': recmd_ratings[movies_user_havent_seen]})\n",
    "    \n",
    "    predicted_ratings.index = predicted_ratings.index.map(lambda x: movie_idx_reverse[x])\n",
    "    predicted_ratings = predicted_ratings.reset_index()\n",
    "    predicted_ratings.columns = ['movieId', 'predicted_rating']\n",
    "\n",
    "    prdctd_w_title = predicted_ratings.merge(all_movies, on='movieId')\n",
    "    prdctd_w_title = prdctd_w_title[['title', 'predicted_rating']]\n",
    "\n",
    "    return prdctd_w_title[prdctd_w_title['predicted_rating'] >= stars]"
   ]
  },
  {
   "cell_type": "code",
   "execution_count": 29,
   "metadata": {
    "collapsed": false
   },
   "outputs": [
    {
     "data": {
      "text/html": [
       "<div>\n",
       "<table border=\"1\" class=\"dataframe\">\n",
       "  <thead>\n",
       "    <tr style=\"text-align: right;\">\n",
       "      <th></th>\n",
       "      <th>title</th>\n",
       "      <th>predicted_rating</th>\n",
       "    </tr>\n",
       "  </thead>\n",
       "  <tbody>\n",
       "    <tr>\n",
       "      <th>2008</th>\n",
       "      <td>Out of Africa (1985)</td>\n",
       "      <td>5.0</td>\n",
       "    </tr>\n",
       "    <tr>\n",
       "      <th>2327</th>\n",
       "      <td>Dumb and Dumber To (2014)</td>\n",
       "      <td>5.0</td>\n",
       "    </tr>\n",
       "    <tr>\n",
       "      <th>3907</th>\n",
       "      <td>This Boy's Life (1993)</td>\n",
       "      <td>5.0</td>\n",
       "    </tr>\n",
       "    <tr>\n",
       "      <th>4422</th>\n",
       "      <td>Rugrats Movie, The (1998)</td>\n",
       "      <td>5.0</td>\n",
       "    </tr>\n",
       "    <tr>\n",
       "      <th>4129</th>\n",
       "      <td>Paths of Glory (1957)</td>\n",
       "      <td>5.0</td>\n",
       "    </tr>\n",
       "    <tr>\n",
       "      <th>4809</th>\n",
       "      <td>Jade (1995)</td>\n",
       "      <td>5.0</td>\n",
       "    </tr>\n",
       "    <tr>\n",
       "      <th>2987</th>\n",
       "      <td>Battleship Potemkin (1925)</td>\n",
       "      <td>5.0</td>\n",
       "    </tr>\n",
       "    <tr>\n",
       "      <th>3061</th>\n",
       "      <td>For the Boys (1991)</td>\n",
       "      <td>5.0</td>\n",
       "    </tr>\n",
       "    <tr>\n",
       "      <th>3104</th>\n",
       "      <td>Lean on Me (1989)</td>\n",
       "      <td>5.0</td>\n",
       "    </tr>\n",
       "    <tr>\n",
       "      <th>835</th>\n",
       "      <td>No Country for Old Men (2007)</td>\n",
       "      <td>5.0</td>\n",
       "    </tr>\n",
       "  </tbody>\n",
       "</table>\n",
       "</div>"
      ],
      "text/plain": [
       "                              title  predicted_rating\n",
       "2008           Out of Africa (1985)               5.0\n",
       "2327      Dumb and Dumber To (2014)               5.0\n",
       "3907         This Boy's Life (1993)               5.0\n",
       "4422      Rugrats Movie, The (1998)               5.0\n",
       "4129          Paths of Glory (1957)               5.0\n",
       "4809                    Jade (1995)               5.0\n",
       "2987     Battleship Potemkin (1925)               5.0\n",
       "3061            For the Boys (1991)               5.0\n",
       "3104              Lean on Me (1989)               5.0\n",
       "835   No Country for Old Men (2007)               5.0"
      ]
     },
     "execution_count": 29,
     "metadata": {},
     "output_type": "execute_result"
    }
   ],
   "source": [
    "recommended_movies = recommend_movies_for_user(user=1988, \n",
    "                                               dataset=ratings_m, \n",
    "                                               recommended=recommended_ratings)\n",
    "recommended_movies.sort_values('predicted_rating', ascending=False).head(10)"
   ]
  },
  {
   "cell_type": "markdown",
   "metadata": {},
   "source": [
    "## Sources\n",
    "\n",
    "- Garrido, M. (2015, Dec 5). _A short introduction to Recommendation Systems_. Retrieved April 1, 2017, from Manuel Garrido's Blog: http://blog.manugarri.com/a-short-introduction-to-recommendation-systems/\n",
    "\n",
    "- GroupLens Research. (2016, October). _MovieLens_. Retrieved April 1, 2017, from GroupLens: https://grouplens.org/datasets/movielens/\n",
    "\n",
    "- Zacharski, R. (2015). _Recommendation Systems_. Retrieved April 1, 2017, from A Programmer's Guide to Data Mining: http://guidetodatamining.com/chapter2/\n",
    "\n",
    "- Wikipedia, the free encyclopedia. (2017, March 19). _Collaborative filtering_. Retrieved April 1, 2017, from Wikipedia: https://en.wikipedia.org/wiki/Collaborative_filtering\n",
    "\n",
    "\n"
   ]
  }
 ],
 "metadata": {
  "anaconda-cloud": {},
  "kernelspec": {
   "display_name": "Python 3",
   "language": "python",
   "name": "python3"
  },
  "language_info": {
   "codemirror_mode": {
    "name": "ipython",
    "version": 3
   },
   "file_extension": ".py",
   "mimetype": "text/x-python",
   "name": "python",
   "nbconvert_exporter": "python",
   "pygments_lexer": "ipython3",
   "version": "3.6.4"
  }
 },
 "nbformat": 4,
 "nbformat_minor": 2
}
